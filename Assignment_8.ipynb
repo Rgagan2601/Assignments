{
 "cells": [
  {
   "cell_type": "markdown",
   "metadata": {},
   "source": [
    "Q1. In Python, what is the difference between a built-in function and a user-defined function? Provide an\n",
    "example of each."
   ]
  },
  {
   "cell_type": "markdown",
   "metadata": {},
   "source": [
    "Built-in function:\n",
    "\n",
    "\n",
    "A built-in function is a function that is provided by Python as part of its standard library and can be used without requiring additional code or modules.\n",
    "\n",
    "User-defined function:\n",
    "\n",
    "\n",
    "A user-defined function is created by the programmer to perform a specific task, allowing custom functionality beyond built-in functions."
   ]
  },
  {
   "cell_type": "markdown",
   "metadata": {},
   "source": [
    "Q2. How can you pass arguments to a function in Python? Explain the difference between positional arguments and keyword arguments"
   ]
  },
  {
   "cell_type": "markdown",
   "metadata": {},
   "source": [
    "You can pass arguments to a function in Python by placing them within the parentheses when calling the function. Positional arguments are passed based on their order, while keyword arguments are identified by parameter names.\n",
    "\n",
    "\n",
    "Difference:\n",
    "Positional arguments rely on the order of parameters,\n",
    "while keyword arguments use parameter names to specify values."
   ]
  },
  {
   "cell_type": "markdown",
   "metadata": {},
   "source": [
    "Q3. What is the purpose of the return statement in a function? Can a function have multiple return statements? Explain with an example."
   ]
  },
  {
   "cell_type": "markdown",
   "metadata": {},
   "source": [
    "A return statement is used to end the execution of the function call and “returns” the result.\n",
    "\n",
    " A function can have multiple return statements to provide different outputs based on conditions."
   ]
  },
  {
   "cell_type": "markdown",
   "metadata": {},
   "source": [
    "Q4.What are lambda functions in Python? How are they different from regular functions? Provide an\n",
    "example where a lambda function can be useful."
   ]
  },
  {
   "cell_type": "markdown",
   "metadata": {},
   "source": [
    "Lambda functions in Python are small, anonymous (unnamed) functions that can have any number of arguments, but only one expression."
   ]
  },
  {
   "cell_type": "code",
   "execution_count": 1,
   "metadata": {},
   "outputs": [
    {
     "name": "stdout",
     "output_type": "stream",
     "text": [
      "15\n"
     ]
    }
   ],
   "source": [
    "x = lambda a : a + 10\n",
    "print(x(5))"
   ]
  },
  {
   "cell_type": "markdown",
   "metadata": {},
   "source": [
    "Q5.How does the concept of \"scope\" apply to functions in Python? Explain the difference between local\n",
    "scope and global scope.\n"
   ]
  },
  {
   "cell_type": "markdown",
   "metadata": {},
   "source": [
    "Scope in Python refers to the region in which a variable is accessible; local scope is within a function where variables are only accessible within that function, while global scope is outside functions where variables are accessible throughout the code."
   ]
  },
  {
   "cell_type": "markdown",
   "metadata": {},
   "source": [
    "Q6.How can you use the \"return\" statement in a Python function to return multiple values?"
   ]
  },
  {
   "cell_type": "markdown",
   "metadata": {},
   "source": [
    "You can use the \"return\" statement in a function to return multiple values by separating the values with commas. The values are then returned as a tuple."
   ]
  },
  {
   "cell_type": "code",
   "execution_count": 2,
   "metadata": {},
   "outputs": [
    {
     "name": "stdout",
     "output_type": "stream",
     "text": [
      "(5, 10, 15)\n"
     ]
    }
   ],
   "source": [
    "def multiple_values():\n",
    "    a = 5\n",
    "    b = 10\n",
    "    c = 15\n",
    "    return a, b, c  \n",
    "\n",
    "result = multiple_values()\n",
    "print(result)\n"
   ]
  },
  {
   "cell_type": "markdown",
   "metadata": {},
   "source": [
    "Q7.What is the difference between the \"pass by value\" and \"pass by reference\" concepts when it\n",
    "comes to function arguments in Python?"
   ]
  },
  {
   "cell_type": "markdown",
   "metadata": {},
   "source": [
    "In \"Pass by value\" :- We passes the reference of the function.It doesn't harm to the original data.\n",
    "\n",
    "In \"pass by reference\" :- We provide the variable where we stored the value to function.It passes the original data. "
   ]
  },
  {
   "cell_type": "markdown",
   "metadata": {},
   "source": [
    "Q8.Create a function that can intake integer or decimal value and do following operations:\n",
    "\n",
    "a. Logarithmic function (log x)\n",
    "\n",
    "b. Exponential function (exp(x))\n",
    "\n",
    "c. Power function with base 2 (2\n",
    "x\n",
    ")\n",
    "\n",
    "d. Square root"
   ]
  },
  {
   "cell_type": "code",
   "execution_count": 6,
   "metadata": {},
   "outputs": [
    {
     "name": "stdout",
     "output_type": "stream",
     "text": [
      "1.3862943611198906 54.598150033144236 16 2.0\n"
     ]
    }
   ],
   "source": [
    "import math\n",
    "\n",
    "def operations_math(inputx):\n",
    "    a=math.log(inputx)\n",
    "    b=math.exp(inputx)\n",
    "    d=math.sqrt(inputx)\n",
    "    c=inputx**2\n",
    "    print(a,b,c,d)\n",
    "\n",
    "operations_math(4)\n"
   ]
  },
  {
   "cell_type": "markdown",
   "metadata": {},
   "source": [
    "Q9.Create a function that takes a full name as an argument and returns first name and last name"
   ]
  },
  {
   "cell_type": "code",
   "execution_count": 10,
   "metadata": {},
   "outputs": [
    {
     "name": "stdout",
     "output_type": "stream",
     "text": [
      "First name :  John\n",
      "last_name :  Doe\n"
     ]
    }
   ],
   "source": [
    "def split_full_name(full_name):\n",
    "    names = full_name.split()\n",
    "\n",
    "    if len(names)>1:\n",
    "        first_name=names[0]\n",
    "        last_name=' '.join(names[1:])\n",
    "    \n",
    "    else:\n",
    "        first_name=full_name\n",
    "        last_name=\"\"\n",
    "\n",
    "    return first_name,last_name\n",
    "\n",
    "full_name = \"John Doe\"\n",
    "first_name,last_name = split_full_name(full_name)\n",
    "print(\"First name : \",first_name)\n",
    "print(\"last_name : \",last_name)"
   ]
  },
  {
   "cell_type": "code",
   "execution_count": null,
   "metadata": {},
   "outputs": [],
   "source": []
  }
 ],
 "metadata": {
  "kernelspec": {
   "display_name": "base",
   "language": "python",
   "name": "python3"
  },
  "language_info": {
   "codemirror_mode": {
    "name": "ipython",
    "version": 3
   },
   "file_extension": ".py",
   "mimetype": "text/x-python",
   "name": "python",
   "nbconvert_exporter": "python",
   "pygments_lexer": "ipython3",
   "version": "3.11.3"
  },
  "orig_nbformat": 4
 },
 "nbformat": 4,
 "nbformat_minor": 2
}
