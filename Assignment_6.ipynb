{
 "cells": [
  {
   "cell_type": "code",
   "execution_count": null,
   "metadata": {},
   "outputs": [],
   "source": [
    "print(\"hello ineuron\")"
   ]
  },
  {
   "cell_type": "code",
   "execution_count": 1,
   "metadata": {},
   "outputs": [
    {
     "name": "stdout",
     "output_type": "stream",
     "text": [
      "['False', 'None', 'True', 'and', 'as', 'assert', 'async', 'await', 'break', 'class', 'continue', 'def', 'del', 'elif', 'else', 'except', 'finally', 'for', 'from', 'global', 'if', 'import', 'in', 'is', 'lambda', 'nonlocal', 'not', 'or', 'pass', 'raise', 'return', 'try', 'while', 'with', 'yield']\n"
     ]
    }
   ],
   "source": [
    "# Q.1. What are keywords in python? Using the keyword library, print all the python keywords.\n",
    " \n",
    "\"\"\"Keywords are the registered variables that can not be used to initialize by the user,they have their specific meanings.\"\"\"\n",
    "import keyword as kw\n",
    "a=kw.kwlist\n",
    "print(a)"
   ]
  },
  {
   "cell_type": "code",
   "execution_count": 2,
   "metadata": {},
   "outputs": [
    {
     "data": {
      "text/plain": [
       "'\\nIt should not start from a number.\\nIt should not start from special character.\\nIt should not start from reserved keyword.\\nIt can be character or string.\\n\\n'"
      ]
     },
     "execution_count": 2,
     "metadata": {},
     "output_type": "execute_result"
    }
   ],
   "source": [
    "# Q.2. What are the rules to create variables in python?\n",
    "\"\"\"\n",
    "It should not start from a number.\n",
    "It should not start from special character.\n",
    "It should not start from reserved keyword.\n",
    "It can be character or string.\n",
    "\n",
    "\"\"\""
   ]
  },
  {
   "cell_type": "code",
   "execution_count": 3,
   "metadata": {},
   "outputs": [
    {
     "data": {
      "text/plain": [
       "'\\nUse lowercase letters and separate words with underscores (_)\\nAvoid using reserved keywords or built-in functions as variable names. '"
      ]
     },
     "execution_count": 3,
     "metadata": {},
     "output_type": "execute_result"
    }
   ],
   "source": [
    "''' Q.3. What are the standards and conventions followed for the nomenclature of variables in \n",
    "python to improve code readability and maintainability?'''\n",
    "\n",
    "\"\"\"\n",
    "Use lowercase letters and separate words with underscores (_)\n",
    "Avoid using reserved keywords or built-in functions as variable names. \"\"\""
   ]
  },
  {
   "cell_type": "code",
   "execution_count": 6,
   "metadata": {},
   "outputs": [],
   "source": [
    "# Q.4. What will happen if a keyword is used as a variable name?\n",
    "# False=10\n",
    "# It will show => cannot assign to False"
   ]
  },
  {
   "cell_type": "code",
   "execution_count": 7,
   "metadata": {},
   "outputs": [],
   "source": [
    "# Q.5. For what purpose def keyword is used?\n",
    "# To create a function"
   ]
  },
  {
   "cell_type": "code",
   "execution_count": 8,
   "metadata": {},
   "outputs": [
    {
     "data": {
      "text/plain": [
       "'\\nThe special character \\\\ in Python is called an escape character\\nIt is used to assign other special character into the string'"
      ]
     },
     "execution_count": 8,
     "metadata": {},
     "output_type": "execute_result"
    }
   ],
   "source": [
    "# Q.6. What is the operation of this special character ‘\\’?\n",
    "\"\"\"\n",
    "The special character \\ in Python is called an escape character\n",
    "It is used to assign other special character into the string\"\"\""
   ]
  },
  {
   "cell_type": "code",
   "execution_count": 27,
   "metadata": {},
   "outputs": [
    {
     "data": {
      "text/plain": [
       "'Q.7. Give an example of the following conditions:\\n(i) Homogeneous list\\n(ii) Heterogeneous set\\n(iii) Homogeneous tuple'"
      ]
     },
     "execution_count": 27,
     "metadata": {},
     "output_type": "execute_result"
    }
   ],
   "source": [
    "'''Q.7. Give an example of the following conditions:\n",
    "(i) Homogeneous list\n",
    "(ii) Heterogeneous set\n",
    "(iii) Homogeneous tuple'''\n",
    "\n",
    "# list_1=[1,2,3,4]\n",
    "# set_1={1,2,3,4}\n",
    "# tup_1 = ('a',2,3,'b')\n"
   ]
  },
  {
   "cell_type": "code",
   "execution_count": 28,
   "metadata": {},
   "outputs": [
    {
     "data": {
      "text/plain": [
       "'\\nMutable data types are those that can be changed after they are created, \\nwhile immutable data types are those that cannot be changed once created1\\n\\nmutable data types:\\n\\nLists\\nDictionaries\\nSets\\n\\nimmutable data types:\\n\\nNumbers (Integer, Float, Complex, Decimal, Rational & Booleans)\\nTuples\\nStrings\\nFrozen Sets\\n'"
      ]
     },
     "execution_count": 28,
     "metadata": {},
     "output_type": "execute_result"
    }
   ],
   "source": [
    "\n",
    "# Q.8. Explain the mutable and immutable data types with proper explanation & examples.\n",
    "\"\"\"\n",
    "Mutable data types are those that can be changed after they are created, \n",
    "while immutable data types are those that cannot be changed once created1\n",
    "\n",
    "mutable data types:\n",
    "\n",
    "Lists\n",
    "Dictionaries\n",
    "Sets\n",
    "\n",
    "immutable data types:\n",
    "\n",
    "Numbers (Integer, Float, Complex, Decimal, Rational & Booleans)\n",
    "Tuples\n",
    "Strings\n",
    "Frozen Sets\n",
    "\"\"\""
   ]
  },
  {
   "cell_type": "code",
   "execution_count": 19,
   "metadata": {},
   "outputs": [
    {
     "name": "stdout",
     "output_type": "stream",
     "text": [
      "    * \n",
      "\n",
      "   * * \n",
      "\n",
      "  * * * \n",
      "\n",
      " * * * * \n",
      "\n",
      "* * * * * \n",
      "\n"
     ]
    }
   ],
   "source": [
    "# Q.9. Write a code to create the given structure using only for loop.\n",
    "n = int(input(\"Enter the no of rows : \"))\n",
    "for row in range(n):\n",
    "    for columns in range(n-row-1):\n",
    "        print(\" \",end=\"\")\n",
    "    for columns in range(row+1):\n",
    "        print(\"*\",end=\" \")\n",
    "    print(\"\\n\")\n"
   ]
  },
  {
   "cell_type": "code",
   "execution_count": null,
   "metadata": {},
   "outputs": [],
   "source": []
  },
  {
   "cell_type": "code",
   "execution_count": null,
   "metadata": {},
   "outputs": [],
   "source": []
  }
 ],
 "metadata": {
  "kernelspec": {
   "display_name": "Python 3",
   "language": "python",
   "name": "python3"
  },
  "language_info": {
   "codemirror_mode": {
    "name": "ipython",
    "version": 3
   },
   "file_extension": ".py",
   "mimetype": "text/x-python",
   "name": "python",
   "nbconvert_exporter": "python",
   "pygments_lexer": "ipython3",
   "version": "3.9.12"
  },
  "orig_nbformat": 4
 },
 "nbformat": 4,
 "nbformat_minor": 2
}
