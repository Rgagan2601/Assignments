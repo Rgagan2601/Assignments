{
 "cells": [
  {
   "cell_type": "markdown",
   "metadata": {},
   "source": [
    "Q.1. Create two int type variables, apply addition, subtraction, division and multiplications\n",
    "and store the results in variables. Then print the data in the following format by calling the\n",
    "variables:\n"
   ]
  },
  {
   "cell_type": "code",
   "execution_count": 6,
   "metadata": {},
   "outputs": [
    {
     "name": "stdout",
     "output_type": "stream",
     "text": [
      "first variable is 5 & second variable is 10\n",
      "Addition: {a}+{b} =  15\n",
      "Substraction: {a}-{b} =  -5\n",
      "Multiplication: {a}*{b} =  50\n",
      "Division: {a}/{b} =  0\n"
     ]
    }
   ],
   "source": [
    "a=5\n",
    "b=10\n",
    "print(f\"first variable is {a} & second variable is {b}\")\n",
    "print(\"Addition: {a}+{b} = \",a+b)\n",
    "print(\"Substraction: {a}-{b} = \",a-b)\n",
    "print(\"Multiplication: {a}*{b} = \",a*b)\n",
    "print(\"Division: {a}/{b} = \",a//b)"
   ]
  },
  {
   "cell_type": "markdown",
   "metadata": {},
   "source": [
    "Q.2. What is the difference between the following operators:\n",
    "\n",
    "\n",
    "\n",
    "(i) ‘/’ & ‘//’\n",
    "\n",
    "\n",
    "\n",
    "\n",
    "(ii) ‘**’ & ‘^’\n"
   ]
  },
  {
   "cell_type": "markdown",
   "metadata": {},
   "source": [
    "'/':\n",
    "\n",
    "Regular division operator.\n",
    "\n",
    "Performs floating-point division.\n",
    "\n",
    "Returns a decimal (floating-point) result.\n",
    "\n",
    "'//\":\n",
    "\n",
    "Floor division operator.\n",
    "\n",
    "Performs integer division .\n",
    "\n",
    "Returns an integer result, discarding the decimal part."
   ]
  },
  {
   "cell_type": "markdown",
   "metadata": {},
   "source": [
    "Q.3. List the logical operators.\n",
    "\n",
    "AND: Returns true if both operands are true.\n",
    "\n",
    "OR: Returns true if at least one operand is true.\n",
    "\n",
    "NOT: Returns the opposite of the operand's boolean value."
   ]
  },
  {
   "cell_type": "markdown",
   "metadata": {},
   "source": [
    "Q.5. Create a list containing int type data of length 15. Then write a code to check if 10 is present in the list or not\n"
   ]
  },
  {
   "cell_type": "code",
   "execution_count": 7,
   "metadata": {},
   "outputs": [
    {
     "name": "stdout",
     "output_type": "stream",
     "text": [
      "10 is present in the list.\n"
     ]
    }
   ],
   "source": [
    "\n",
    "integer_list = [5, 8, 3, 12, 7, 10, 22, 15, 6, 18, 14, 9, 20, 25, 1]\n",
    "\n",
    "if 10 in integer_list:\n",
    "    print(\"10 is present in the list.\")\n",
    "else:\n",
    "    print(\"10 is not present in the list.\")"
   ]
  }
 ],
 "metadata": {
  "kernelspec": {
   "display_name": "base",
   "language": "python",
   "name": "python3"
  },
  "language_info": {
   "codemirror_mode": {
    "name": "ipython",
    "version": 3
   },
   "file_extension": ".py",
   "mimetype": "text/x-python",
   "name": "python",
   "nbconvert_exporter": "python",
   "pygments_lexer": "ipython3",
   "version": "3.9.12"
  },
  "orig_nbformat": 4
 },
 "nbformat": 4,
 "nbformat_minor": 2
}
